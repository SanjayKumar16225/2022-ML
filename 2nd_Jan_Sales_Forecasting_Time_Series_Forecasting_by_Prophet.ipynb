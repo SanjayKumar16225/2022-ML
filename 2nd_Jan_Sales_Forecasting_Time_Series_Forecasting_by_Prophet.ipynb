{
  "nbformat": 4,
  "nbformat_minor": 0,
  "metadata": {
    "colab": {
      "name": "2nd-Jan - Sales Forecasting-Time Series Forecasting by Prophet.ipynb",
      "private_outputs": true,
      "provenance": [],
      "collapsed_sections": [],
      "mount_file_id": "1WeSiQFGqqqYU0hWCum6Rl-JILjyK0oFT",
      "authorship_tag": "ABX9TyMFDs/dJPKmqVr1yB+KR3z7",
      "include_colab_link": true
    },
    "kernelspec": {
      "name": "python3",
      "display_name": "Python 3"
    },
    "language_info": {
      "name": "python"
    },
    "accelerator": "GPU"
  },
  "cells": [
    {
      "cell_type": "markdown",
      "metadata": {
        "id": "view-in-github",
        "colab_type": "text"
      },
      "source": [
        "<a href=\"https://colab.research.google.com/github/SanjayKumar16225/2022-ML/blob/main/2nd_Jan_Sales_Forecasting_Time_Series_Forecasting_by_Prophet.ipynb\" target=\"_parent\"><img src=\"https://colab.research.google.com/assets/colab-badge.svg\" alt=\"Open In Colab\"/></a>"
      ]
    },
    {
      "cell_type": "code",
      "execution_count": null,
      "metadata": {
        "id": "CzmdteqTKCrh"
      },
      "outputs": [],
      "source": [
        "import pandas as pd\n",
        "import numpy as np\n",
        "import matplotlib.pyplot as plt\n"
      ]
    },
    {
      "cell_type": "code",
      "source": [
        "train_df=pd.read_csv('/content/drive/MyDrive/ML2022/Jan-2022/train.csv',parse_dates=[\"Date\"])\n",
        "test_df=pd.read_csv('/content/drive/MyDrive/ML2022/Jan-2022/test.csv',parse_dates=[\"Date\"])"
      ],
      "metadata": {
        "id": "EP1IaR6vM-xN"
      },
      "execution_count": null,
      "outputs": []
    },
    {
      "cell_type": "code",
      "source": [
        "train_df.head()"
      ],
      "metadata": {
        "id": "7VH8JK2CNKZI"
      },
      "execution_count": null,
      "outputs": []
    },
    {
      "cell_type": "code",
      "source": [
        "train_df_cln=train_df.copy()\n",
        "train_df_cln=train_df.groupby([\"Date\"]).agg({\"Weekly_Sales\":[\"sum\"]}).reset_index()\n",
        "train_df_cln.columns=['ds','y']\n"
      ],
      "metadata": {
        "id": "rl_IHVb-NOwz"
      },
      "execution_count": null,
      "outputs": []
    },
    {
      "cell_type": "code",
      "source": [
        "\"\"\"\n",
        "1. aggregate to weekly data\n",
        "2. rename columns for Prophet Model\n",
        "\"\"\"\n",
        "\n",
        "test_df_cln=test_df.copy()\n",
        "test_df_cln=test_df[\"Date\"].drop_duplicates().sort_values().to_frame()\n",
        "test_df_cln.columns=[\"ds\"]\n",
        "test_df_cln"
      ],
      "metadata": {
        "id": "-VQl729kvyfe"
      },
      "execution_count": null,
      "outputs": []
    },
    {
      "cell_type": "code",
      "source": [
        "train_df_cln"
      ],
      "metadata": {
        "id": "nxaQDXxbkfch"
      },
      "execution_count": null,
      "outputs": []
    },
    {
      "cell_type": "code",
      "source": [
        "plt.figure(figsize=(20,5)) # chart size\n",
        "plt.plot(train_df_cln[\"ds\"], train_df_cln[\"y\"])"
      ],
      "metadata": {
        "id": "8bSgBjkLlO2o"
      },
      "execution_count": null,
      "outputs": []
    },
    {
      "cell_type": "code",
      "source": [
        "\"\"\"\n",
        "1. decompose time series data: level, trend, seasonality\n",
        "\"\"\"\n",
        "\n",
        "import statsmodels.api as sm\n",
        "\n",
        "sm.tsa.seasonal_decompose(train_df.groupby(\"Date\")[\"Weekly_Sales\"].sum(),  model=\"additive\").plot().show()\n",
        "sm.tsa.seasonal_decompose(train_df.groupby(\"Date\")[\"Weekly_Sales\"].sum(),  model=\"multiplicative\").plot().show()\n",
        "#sm.tsa.seasonal_decompose(train_df_cln[\"y\"],period=52, model=\"additive\").plot().show()\n",
        "#sm.tsa.seasonal_decompose(train_df_cln[\"y\"],period=52, model=\"multiplicative\").plot().show()"
      ],
      "metadata": {
        "id": "m1sADt-bmG3I"
      },
      "execution_count": null,
      "outputs": []
    },
    {
      "cell_type": "code",
      "source": [
        "pip install Prophet"
      ],
      "metadata": {
        "id": "7bSGc8tum8HF"
      },
      "execution_count": null,
      "outputs": []
    },
    {
      "cell_type": "code",
      "source": [
        "\"\"\"\n",
        "Prophet\n",
        "\"\"\"\n",
        "\n",
        "from prophet import Prophet\n",
        "\n",
        "Prophet_Model=Prophet(yearly_seasonality=True, seasonality_mode=\"additive\")\n",
        "Prophet_Model.fit(train_df_cln)"
      ],
      "metadata": {
        "id": "N1Rx9ja9q3ga"
      },
      "execution_count": null,
      "outputs": []
    },
    {
      "cell_type": "code",
      "source": [
        "Y_P_Prophet_Model=Prophet_Model.predict(test_df_cln)\n",
        "Y_P_Prophet_Model"
      ],
      "metadata": {
        "id": "dJJZTT46uWhw"
      },
      "execution_count": null,
      "outputs": []
    },
    {
      "cell_type": "code",
      "source": [
        "\"\"\"\n",
        "1. evaluate forecast accuracy\n",
        "2. prepare dataframe for performance_metrics function (same structure as cross_validation output)\n",
        "\"\"\"\n",
        "\n",
        "Y_Prophet_Model=Prophet_Model.predict(train_df_cln)\n",
        "Y_Prophet_Model=Y_Prophet_Model[[\"ds\",\"yhat\",\"yhat_lower\",\"yhat_upper\"]]\n",
        "\n",
        "Y_Prophet_Model=train_df_cln.merge(Y_Prophet_Model, how=\"left\", left_on=\"ds\", right_on=\"ds\")\n",
        "Y_Prophet_Model[\"cutoff\"]=Y_Prophet_Model[\"ds\"]\n",
        "Y_Prophet_Model"
      ],
      "metadata": {
        "id": "BNcLFrOTwbs0"
      },
      "execution_count": null,
      "outputs": []
    },
    {
      "cell_type": "code",
      "source": [
        "from prophet.diagnostics import performance_metrics\n",
        "performance_metrics(Y_Prophet_Model)"
      ],
      "metadata": {
        "id": "GtGwdf9vwvyV"
      },
      "execution_count": null,
      "outputs": []
    },
    {
      "cell_type": "code",
      "source": [
        "plt.figure(figsize=(20,5)) # chart size\n",
        "plt.plot(Y_Prophet_Model[\"ds\"], Y_Prophet_Model[\"y\"], label=\"y\")\n",
        "plt.plot(Y_Prophet_Model[\"ds\"], Y_Prophet_Model[\"yhat\"], label=\"yhat\")\n",
        "plt.legend(loc='best')"
      ],
      "metadata": {
        "id": "eRj01VVtw3al"
      },
      "execution_count": null,
      "outputs": []
    },
    {
      "cell_type": "code",
      "source": [
        "Prophet_Model.plot(Y_P_Prophet_Model, figsize=(10,3))\n",
        "Prophet_Model.plot_components(Y_P_Prophet_Model, yearly_start=0, figsize=(10,5))"
      ],
      "metadata": {
        "id": "81oZM4L_xNih"
      },
      "execution_count": null,
      "outputs": []
    },
    {
      "cell_type": "code",
      "source": [
        "from fbprophet.plot import plot_plotly, plot_components_plotly\n",
        "\n",
        "plot_plotly(Prophet_Model, Y_P_Prophet_Model)"
      ],
      "metadata": {
        "id": "MPJC1qo2xYJz"
      },
      "execution_count": null,
      "outputs": []
    },
    {
      "cell_type": "code",
      "source": [
        "plot_components_plotly(Prophet_Model, Y_P_Prophet_Model)"
      ],
      "metadata": {
        "id": "FrPGhySNxfLA"
      },
      "execution_count": null,
      "outputs": []
    },
    {
      "cell_type": "code",
      "source": [
        "### https://facebook.github.io/prophet/docs/quick_start.html#python-api"
      ],
      "metadata": {
        "id": "8uRif5QAxnZf"
      },
      "execution_count": null,
      "outputs": []
    },
    {
      "cell_type": "code",
      "source": [
        ""
      ],
      "metadata": {
        "id": "z-NmLxjGyCbl"
      },
      "execution_count": null,
      "outputs": []
    }
  ]
}